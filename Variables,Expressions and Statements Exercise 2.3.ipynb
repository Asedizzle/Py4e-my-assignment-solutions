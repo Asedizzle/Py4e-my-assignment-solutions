{
 "cells": [
  {
   "attachments": {},
   "cell_type": "markdown",
   "metadata": {},
   "source": [
    "2.3 Write a program to prompt the user for hours and rate per hour using input to compute gross pay. Use 35 hours and a rate of 2.75 per hour to test the program (the pay should be 96.25). You should use input to read a string and float() to convert the string to a number. Do not worry about error checking or bad user data.\n",
    "NOTE : This is the original question, I will however include error checking."
   ]
  },
  {
   "cell_type": "code",
   "execution_count": 2,
   "metadata": {},
   "outputs": [
    {
     "name": "stdout",
     "output_type": "stream",
     "text": [
      "3.0\n",
      "2.0\n",
      "Pay:  6.0\n"
     ]
    }
   ],
   "source": [
    "hours_worked = input(\"Please input the number of hours you worked\")\n",
    "try: \n",
    "    hours_worked = float(hours_worked)\n",
    "except:\n",
    "    print(\"Please type using figures\")\n",
    "print(\"hours worked\", hours_worked)\n",
    "\n",
    "Rate = input(\"Please input the rate per hour , type only in figures\")\n",
    "try: \n",
    "    Rate = float(Rate)\n",
    "except:\n",
    "    print(\"Please type using figures\")\n",
    "print(\"Rate\", Rate)\n",
    "\n",
    "Pay = hours_worked * Rate\n",
    "print(\"Pay: \", Pay)"
   ]
  }
 ],
 "metadata": {
  "kernelspec": {
   "display_name": "Python 3",
   "language": "python",
   "name": "python3"
  },
  "language_info": {
   "codemirror_mode": {
    "name": "ipython",
    "version": 3
   },
   "file_extension": ".py",
   "mimetype": "text/x-python",
   "name": "python",
   "nbconvert_exporter": "python",
   "pygments_lexer": "ipython3",
   "version": "3.11.1"
  },
  "orig_nbformat": 4
 },
 "nbformat": 4,
 "nbformat_minor": 2
}
